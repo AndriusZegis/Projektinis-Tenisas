{
 "cells": [
  {
   "cell_type": "code",
   "execution_count": 2,
   "id": "369cb5ec",
   "metadata": {},
   "outputs": [
    {
     "name": "stdout",
     "output_type": "stream",
     "text": [
      "        matchid                       tourney_id                 tourney_name  \\\n",
      "0             1                         1968-580             Australian Chps.   \n",
      "1             2                         1968-580             Australian Chps.   \n",
      "2             3                         1968-580             Australian Chps.   \n",
      "3             4                         1968-580             Australian Chps.   \n",
      "4             5                         1968-580             Australian Chps.   \n",
      "...         ...                              ...                          ...   \n",
      "168952   168953  2018-M-DC-2018-WG-PO-SRB-IND-01  Davis Cup WG PO: SRB vs IND   \n",
      "168953   168954  2018-M-DC-2018-WG-PO-SUI-SWE-01  Davis Cup WG PO: SUI vs SWE   \n",
      "168954   168955  2018-M-DC-2018-WG-PO-SUI-SWE-01  Davis Cup WG PO: SUI vs SWE   \n",
      "168955   168956  2018-M-DC-2018-WG-PO-SUI-SWE-01  Davis Cup WG PO: SUI vs SWE   \n",
      "168956   168957  2018-M-DC-2018-WG-PO-SUI-SWE-01  Davis Cup WG PO: SUI vs SWE   \n",
      "\n",
      "       surface  draw_size tourney_level  tourney_date  match_num  winner_id  \\\n",
      "0        Grass       64.0             G    19680119.0        1.0   110023.0   \n",
      "1        Grass       64.0             G    19680119.0        2.0   109803.0   \n",
      "2        Grass       64.0             G    19680119.0        3.0   100257.0   \n",
      "3        Grass       64.0             G    19680119.0        4.0   100105.0   \n",
      "4        Grass       64.0             G    19680119.0        5.0   109966.0   \n",
      "...        ...        ...           ...           ...        ...        ...   \n",
      "168952    Clay        4.0             D    20180914.0        4.0   106353.0   \n",
      "168953    Hard        4.0             D    20180914.0        1.0   105436.0   \n",
      "168954    Hard        4.0             D    20180914.0        2.0   105967.0   \n",
      "168955    Hard        4.0             D    20180914.0        4.0   105967.0   \n",
      "168956    Hard        4.0             D    20180914.0        5.0   111197.0   \n",
      "\n",
      "        winner_seed  ... w_bpFaced l_ace l_df  l_svpt l_1stIn  l_1stWon  \\\n",
      "0               NaN  ...       NaN   NaN  NaN     NaN     NaN       NaN   \n",
      "1               NaN  ...       NaN   NaN  NaN     NaN     NaN       NaN   \n",
      "2               NaN  ...       NaN   NaN  NaN     NaN     NaN       NaN   \n",
      "3               5.0  ...       NaN   NaN  NaN     NaN     NaN       NaN   \n",
      "4               NaN  ...       NaN   NaN  NaN     NaN     NaN       NaN   \n",
      "...             ...  ...       ...   ...  ...     ...     ...       ...   \n",
      "168952          NaN  ...       1.0   4.0  4.0    59.0    28.0      17.0   \n",
      "168953          NaN  ...      14.0  19.0  7.0   169.0   103.0      72.0   \n",
      "168954          NaN  ...       7.0   8.0  1.0    96.0    54.0      39.0   \n",
      "168955          NaN  ...       5.0   4.0  3.0   143.0   102.0      54.0   \n",
      "168956          NaN  ...       2.0   4.0  0.0   125.0    72.0      55.0   \n",
      "\n",
      "        l_2ndWon  l_SvGms  l_bpSaved  l_bpFaced  \n",
      "0            NaN      NaN        NaN        NaN  \n",
      "1            NaN      NaN        NaN        NaN  \n",
      "2            NaN      NaN        NaN        NaN  \n",
      "3            NaN      NaN        NaN        NaN  \n",
      "4            NaN      NaN        NaN        NaN  \n",
      "...          ...      ...        ...        ...  \n",
      "168952       9.0      8.0        3.0        8.0  \n",
      "168953      33.0     25.0       10.0       15.0  \n",
      "168954      19.0     14.0        5.0       10.0  \n",
      "168955      19.0     17.0       12.0       20.0  \n",
      "168956      30.0     20.0        5.0        7.0  \n",
      "\n",
      "[168957 rows x 50 columns]\n"
     ]
    }
   ],
   "source": [
    "import pandas as pd\n",
    "tenisas = pd.read_csv(r\"C:\\Users\\777z\\Documents\\Failas\\ATP.csv\",engine=\"python\",encoding=\"latin1\")\n",
    "print(tenisas)"
   ]
  },
  {
   "cell_type": "code",
   "execution_count": 2,
   "id": "638be6d8",
   "metadata": {},
   "outputs": [
    {
     "ename": "NameError",
     "evalue": "name 'sns' is not defined",
     "output_type": "error",
     "traceback": [
      "\u001b[1;31m---------------------------------------------------------------------------\u001b[0m",
      "\u001b[1;31mNameError\u001b[0m                                 Traceback (most recent call last)",
      "Input \u001b[1;32mIn [2]\u001b[0m, in \u001b[0;36m<cell line: 1>\u001b[1;34m()\u001b[0m\n\u001b[1;32m----> 1\u001b[0m \u001b[43msns\u001b[49m\u001b[38;5;241m.\u001b[39mset(color_codes\u001b[38;5;241m=\u001b[39m\u001b[38;5;28;01mTrue\u001b[39;00m)\n",
      "\u001b[1;31mNameError\u001b[0m: name 'sns' is not defined"
     ]
    }
   ],
   "source": [
    "sns.set(color_codes=True)"
   ]
  },
  {
   "cell_type": "code",
   "execution_count": 3,
   "id": "1099b020",
   "metadata": {},
   "outputs": [
    {
     "data": {
      "text/html": [
       "<div>\n",
       "<style scoped>\n",
       "    .dataframe tbody tr th:only-of-type {\n",
       "        vertical-align: middle;\n",
       "    }\n",
       "\n",
       "    .dataframe tbody tr th {\n",
       "        vertical-align: top;\n",
       "    }\n",
       "\n",
       "    .dataframe thead th {\n",
       "        text-align: right;\n",
       "    }\n",
       "</style>\n",
       "<table border=\"1\" class=\"dataframe\">\n",
       "  <thead>\n",
       "    <tr style=\"text-align: right;\">\n",
       "      <th></th>\n",
       "      <th>matchid</th>\n",
       "      <th>tourney_id</th>\n",
       "      <th>tourney_name</th>\n",
       "      <th>surface</th>\n",
       "      <th>draw_size</th>\n",
       "      <th>tourney_level</th>\n",
       "      <th>tourney_date</th>\n",
       "      <th>match_num</th>\n",
       "      <th>winner_id</th>\n",
       "      <th>winner_seed</th>\n",
       "      <th>...</th>\n",
       "      <th>w_bpFaced</th>\n",
       "      <th>l_ace</th>\n",
       "      <th>l_df</th>\n",
       "      <th>l_svpt</th>\n",
       "      <th>l_1stIn</th>\n",
       "      <th>l_1stWon</th>\n",
       "      <th>l_2ndWon</th>\n",
       "      <th>l_SvGms</th>\n",
       "      <th>l_bpSaved</th>\n",
       "      <th>l_bpFaced</th>\n",
       "    </tr>\n",
       "  </thead>\n",
       "  <tbody>\n",
       "    <tr>\n",
       "      <th>0</th>\n",
       "      <td>1</td>\n",
       "      <td>1968-580</td>\n",
       "      <td>Australian Chps.</td>\n",
       "      <td>Grass</td>\n",
       "      <td>64.0</td>\n",
       "      <td>G</td>\n",
       "      <td>19680119.0</td>\n",
       "      <td>1.0</td>\n",
       "      <td>110023.0</td>\n",
       "      <td>NaN</td>\n",
       "      <td>...</td>\n",
       "      <td>NaN</td>\n",
       "      <td>NaN</td>\n",
       "      <td>NaN</td>\n",
       "      <td>NaN</td>\n",
       "      <td>NaN</td>\n",
       "      <td>NaN</td>\n",
       "      <td>NaN</td>\n",
       "      <td>NaN</td>\n",
       "      <td>NaN</td>\n",
       "      <td>NaN</td>\n",
       "    </tr>\n",
       "    <tr>\n",
       "      <th>1</th>\n",
       "      <td>2</td>\n",
       "      <td>1968-580</td>\n",
       "      <td>Australian Chps.</td>\n",
       "      <td>Grass</td>\n",
       "      <td>64.0</td>\n",
       "      <td>G</td>\n",
       "      <td>19680119.0</td>\n",
       "      <td>2.0</td>\n",
       "      <td>109803.0</td>\n",
       "      <td>NaN</td>\n",
       "      <td>...</td>\n",
       "      <td>NaN</td>\n",
       "      <td>NaN</td>\n",
       "      <td>NaN</td>\n",
       "      <td>NaN</td>\n",
       "      <td>NaN</td>\n",
       "      <td>NaN</td>\n",
       "      <td>NaN</td>\n",
       "      <td>NaN</td>\n",
       "      <td>NaN</td>\n",
       "      <td>NaN</td>\n",
       "    </tr>\n",
       "    <tr>\n",
       "      <th>2</th>\n",
       "      <td>3</td>\n",
       "      <td>1968-580</td>\n",
       "      <td>Australian Chps.</td>\n",
       "      <td>Grass</td>\n",
       "      <td>64.0</td>\n",
       "      <td>G</td>\n",
       "      <td>19680119.0</td>\n",
       "      <td>3.0</td>\n",
       "      <td>100257.0</td>\n",
       "      <td>NaN</td>\n",
       "      <td>...</td>\n",
       "      <td>NaN</td>\n",
       "      <td>NaN</td>\n",
       "      <td>NaN</td>\n",
       "      <td>NaN</td>\n",
       "      <td>NaN</td>\n",
       "      <td>NaN</td>\n",
       "      <td>NaN</td>\n",
       "      <td>NaN</td>\n",
       "      <td>NaN</td>\n",
       "      <td>NaN</td>\n",
       "    </tr>\n",
       "    <tr>\n",
       "      <th>3</th>\n",
       "      <td>4</td>\n",
       "      <td>1968-580</td>\n",
       "      <td>Australian Chps.</td>\n",
       "      <td>Grass</td>\n",
       "      <td>64.0</td>\n",
       "      <td>G</td>\n",
       "      <td>19680119.0</td>\n",
       "      <td>4.0</td>\n",
       "      <td>100105.0</td>\n",
       "      <td>5.0</td>\n",
       "      <td>...</td>\n",
       "      <td>NaN</td>\n",
       "      <td>NaN</td>\n",
       "      <td>NaN</td>\n",
       "      <td>NaN</td>\n",
       "      <td>NaN</td>\n",
       "      <td>NaN</td>\n",
       "      <td>NaN</td>\n",
       "      <td>NaN</td>\n",
       "      <td>NaN</td>\n",
       "      <td>NaN</td>\n",
       "    </tr>\n",
       "    <tr>\n",
       "      <th>4</th>\n",
       "      <td>5</td>\n",
       "      <td>1968-580</td>\n",
       "      <td>Australian Chps.</td>\n",
       "      <td>Grass</td>\n",
       "      <td>64.0</td>\n",
       "      <td>G</td>\n",
       "      <td>19680119.0</td>\n",
       "      <td>5.0</td>\n",
       "      <td>109966.0</td>\n",
       "      <td>NaN</td>\n",
       "      <td>...</td>\n",
       "      <td>NaN</td>\n",
       "      <td>NaN</td>\n",
       "      <td>NaN</td>\n",
       "      <td>NaN</td>\n",
       "      <td>NaN</td>\n",
       "      <td>NaN</td>\n",
       "      <td>NaN</td>\n",
       "      <td>NaN</td>\n",
       "      <td>NaN</td>\n",
       "      <td>NaN</td>\n",
       "    </tr>\n",
       "  </tbody>\n",
       "</table>\n",
       "<p>5 rows × 50 columns</p>\n",
       "</div>"
      ],
      "text/plain": [
       "   matchid tourney_id      tourney_name surface  draw_size tourney_level  \\\n",
       "0        1   1968-580  Australian Chps.   Grass       64.0             G   \n",
       "1        2   1968-580  Australian Chps.   Grass       64.0             G   \n",
       "2        3   1968-580  Australian Chps.   Grass       64.0             G   \n",
       "3        4   1968-580  Australian Chps.   Grass       64.0             G   \n",
       "4        5   1968-580  Australian Chps.   Grass       64.0             G   \n",
       "\n",
       "   tourney_date  match_num  winner_id  winner_seed  ... w_bpFaced l_ace l_df  \\\n",
       "0    19680119.0        1.0   110023.0          NaN  ...       NaN   NaN  NaN   \n",
       "1    19680119.0        2.0   109803.0          NaN  ...       NaN   NaN  NaN   \n",
       "2    19680119.0        3.0   100257.0          NaN  ...       NaN   NaN  NaN   \n",
       "3    19680119.0        4.0   100105.0          5.0  ...       NaN   NaN  NaN   \n",
       "4    19680119.0        5.0   109966.0          NaN  ...       NaN   NaN  NaN   \n",
       "\n",
       "   l_svpt l_1stIn  l_1stWon  l_2ndWon  l_SvGms  l_bpSaved  l_bpFaced  \n",
       "0     NaN     NaN       NaN       NaN      NaN        NaN        NaN  \n",
       "1     NaN     NaN       NaN       NaN      NaN        NaN        NaN  \n",
       "2     NaN     NaN       NaN       NaN      NaN        NaN        NaN  \n",
       "3     NaN     NaN       NaN       NaN      NaN        NaN        NaN  \n",
       "4     NaN     NaN       NaN       NaN      NaN        NaN        NaN  \n",
       "\n",
       "[5 rows x 50 columns]"
      ]
     },
     "execution_count": 3,
     "metadata": {},
     "output_type": "execute_result"
    }
   ],
   "source": [
    "tenisas.head()"
   ]
  },
  {
   "cell_type": "code",
   "execution_count": 4,
   "id": "220715f4",
   "metadata": {},
   "outputs": [
    {
     "name": "stdout",
     "output_type": "stream",
     "text": [
      "<class 'pandas.core.frame.DataFrame'>\n",
      "RangeIndex: 168957 entries, 0 to 168956\n",
      "Data columns (total 50 columns):\n",
      " #   Column              Non-Null Count   Dtype  \n",
      "---  ------              --------------   -----  \n",
      " 0   matchid             168957 non-null  int64  \n",
      " 1   tourney_id          168957 non-null  object \n",
      " 2   tourney_name        168957 non-null  object \n",
      " 3   surface             166390 non-null  object \n",
      " 4   draw_size           168957 non-null  float64\n",
      " 5   tourney_level       168957 non-null  object \n",
      " 6   tourney_date        168957 non-null  float64\n",
      " 7   match_num           168957 non-null  float64\n",
      " 8   winner_id           168957 non-null  float64\n",
      " 9   winner_seed         65039 non-null   float64\n",
      " 10  winner_entry        14590 non-null   object \n",
      " 11  winner_name         168957 non-null  object \n",
      " 12  winner_hand         168922 non-null  object \n",
      " 13  winner_ht           149679 non-null  float64\n",
      " 14  winner_ioc          168957 non-null  object \n",
      " 15  winner_age          165512 non-null  float64\n",
      " 16  winner_rank         144297 non-null  float64\n",
      " 17  winner_rank_points  144297 non-null  float64\n",
      " 18  loser_id            168957 non-null  float64\n",
      " 19  loser_seed          32718 non-null   float64\n",
      " 20  loser_entry         25119 non-null   object \n",
      " 21  loser_name          168957 non-null  object \n",
      " 22  loser_hand          168892 non-null  object \n",
      " 23  loser_ht            137985 non-null  float64\n",
      " 24  loser_ioc           168957 non-null  object \n",
      " 25  loser_age           162388 non-null  float64\n",
      " 26  loser_rank          141113 non-null  float64\n",
      " 27  loser_rank_points   141113 non-null  float64\n",
      " 28  score               168782 non-null  object \n",
      " 29  best_of             168957 non-null  float64\n",
      " 30  round               168957 non-null  object \n",
      " 31  minutes             79821 non-null   float64\n",
      " 32  w_ace               82354 non-null   float64\n",
      " 33  w_df                82354 non-null   float64\n",
      " 34  w_svpt              82354 non-null   float64\n",
      " 35  w_1stIn             82354 non-null   float64\n",
      " 36  w_1stWon            82354 non-null   float64\n",
      " 37  w_2ndWon            82354 non-null   float64\n",
      " 38  w_SvGms             82354 non-null   float64\n",
      " 39  w_bpSaved           82354 non-null   float64\n",
      " 40  w_bpFaced           82354 non-null   float64\n",
      " 41  l_ace               82354 non-null   float64\n",
      " 42  l_df                82354 non-null   float64\n",
      " 43  l_svpt              82354 non-null   float64\n",
      " 44  l_1stIn             82354 non-null   float64\n",
      " 45  l_1stWon            82354 non-null   float64\n",
      " 46  l_2ndWon            82354 non-null   float64\n",
      " 47  l_SvGms             82354 non-null   float64\n",
      " 48  l_bpSaved           82354 non-null   float64\n",
      " 49  l_bpFaced           82354 non-null   float64\n",
      "dtypes: float64(35), int64(1), object(14)\n",
      "memory usage: 64.5+ MB\n"
     ]
    }
   ],
   "source": [
    "tenisas.info()"
   ]
  },
  {
   "cell_type": "code",
   "execution_count": 5,
   "id": "cd326de6",
   "metadata": {},
   "outputs": [
    {
     "ename": "ModuleNotFoundError",
     "evalue": "No module named 'seaborn'",
     "output_type": "error",
     "traceback": [
      "\u001b[1;31m---------------------------------------------------------------------------\u001b[0m",
      "\u001b[1;31mModuleNotFoundError\u001b[0m                       Traceback (most recent call last)",
      "Input \u001b[1;32mIn [5]\u001b[0m, in \u001b[0;36m<cell line: 1>\u001b[1;34m()\u001b[0m\n\u001b[1;32m----> 1\u001b[0m \u001b[38;5;28;01mimport\u001b[39;00m \u001b[38;5;21;01mseaborn\u001b[39;00m \u001b[38;5;28;01mas\u001b[39;00m \u001b[38;5;21;01msns\u001b[39;00m\n",
      "\u001b[1;31mModuleNotFoundError\u001b[0m: No module named 'seaborn'"
     ]
    }
   ],
   "source": [
    "import seaborn as sns"
   ]
  },
  {
   "cell_type": "code",
   "execution_count": 6,
   "id": "15791c5e",
   "metadata": {},
   "outputs": [
    {
     "name": "stdout",
     "output_type": "stream",
     "text": [
      "Collecting seaborn\n",
      "  Downloading seaborn-0.11.2-py3-none-any.whl (292 kB)\n",
      "Collecting scipy>=1.0\n",
      "  Downloading scipy-1.8.0-cp310-cp310-win_amd64.whl (37.0 MB)\n",
      "Requirement already satisfied: numpy>=1.15 in d:\\python\\lib\\site-packages (from seaborn) (1.22.2)\n",
      "Collecting matplotlib>=2.2\n",
      "  Downloading matplotlib-3.5.1-cp310-cp310-win_amd64.whl (7.2 MB)\n",
      "Requirement already satisfied: pandas>=0.23 in d:\\python\\lib\\site-packages (from seaborn) (1.4.1)\n",
      "Collecting fonttools>=4.22.0\n",
      "  Downloading fonttools-4.29.1-py3-none-any.whl (895 kB)\n",
      "Requirement already satisfied: packaging>=20.0 in d:\\python\\lib\\site-packages (from matplotlib>=2.2->seaborn) (21.3)\n",
      "Collecting kiwisolver>=1.0.1\n",
      "  Downloading kiwisolver-1.3.2-cp310-cp310-win_amd64.whl (52 kB)\n",
      "Collecting cycler>=0.10\n",
      "  Downloading cycler-0.11.0-py3-none-any.whl (6.4 kB)\n",
      "Collecting pillow>=6.2.0\n",
      "  Downloading Pillow-9.0.1-cp310-cp310-win_amd64.whl (3.2 MB)\n",
      "Requirement already satisfied: pyparsing>=2.2.1 in d:\\python\\lib\\site-packages (from matplotlib>=2.2->seaborn) (3.0.7)\n",
      "Requirement already satisfied: python-dateutil>=2.7 in d:\\python\\lib\\site-packages (from matplotlib>=2.2->seaborn) (2.8.2)\n",
      "Requirement already satisfied: pytz>=2020.1 in d:\\python\\lib\\site-packages (from pandas>=0.23->seaborn) (2021.3)\n",
      "Requirement already satisfied: six>=1.5 in d:\\python\\lib\\site-packages (from python-dateutil>=2.7->matplotlib>=2.2->seaborn) (1.16.0)\n",
      "Installing collected packages: pillow, kiwisolver, fonttools, cycler, scipy, matplotlib, seaborn\n",
      "Successfully installed cycler-0.11.0 fonttools-4.29.1 kiwisolver-1.3.2 matplotlib-3.5.1 pillow-9.0.1 scipy-1.8.0 seaborn-0.11.2\n",
      "Note: you may need to restart the kernel to use updated packages.\n"
     ]
    },
    {
     "name": "stderr",
     "output_type": "stream",
     "text": [
      "WARNING: You are using pip version 21.2.4; however, version 22.0.3 is available.\n",
      "You should consider upgrading via the 'D:\\python\\python.exe -m pip install --upgrade pip' command.\n"
     ]
    }
   ],
   "source": [
    "pip install seaborn"
   ]
  },
  {
   "cell_type": "code",
   "execution_count": 7,
   "id": "8255cbf0",
   "metadata": {},
   "outputs": [
    {
     "name": "stdout",
     "output_type": "stream",
     "text": [
      "Requirement already satisfied: seaborn in d:\\python\\lib\\site-packages (0.11.2)\n",
      "Requirement already satisfied: numpy>=1.15 in d:\\python\\lib\\site-packages (from seaborn) (1.22.2)\n",
      "Requirement already satisfied: matplotlib>=2.2 in d:\\python\\lib\\site-packages (from seaborn) (3.5.1)\n",
      "Requirement already satisfied: scipy>=1.0 in d:\\python\\lib\\site-packages (from seaborn) (1.8.0)\n",
      "Requirement already satisfied: pandas>=0.23 in d:\\python\\lib\\site-packages (from seaborn) (1.4.1)\n",
      "Requirement already satisfied: fonttools>=4.22.0 in d:\\python\\lib\\site-packages (from matplotlib>=2.2->seaborn) (4.29.1)\n",
      "Requirement already satisfied: python-dateutil>=2.7 in d:\\python\\lib\\site-packages (from matplotlib>=2.2->seaborn) (2.8.2)\n",
      "Requirement already satisfied: pyparsing>=2.2.1 in d:\\python\\lib\\site-packages (from matplotlib>=2.2->seaborn) (3.0.7)\n",
      "Requirement already satisfied: packaging>=20.0 in d:\\python\\lib\\site-packages (from matplotlib>=2.2->seaborn) (21.3)\n",
      "Requirement already satisfied: kiwisolver>=1.0.1 in d:\\python\\lib\\site-packages (from matplotlib>=2.2->seaborn) (1.3.2)\n",
      "Requirement already satisfied: pillow>=6.2.0 in d:\\python\\lib\\site-packages (from matplotlib>=2.2->seaborn) (9.0.1)\n",
      "Requirement already satisfied: cycler>=0.10 in d:\\python\\lib\\site-packages (from matplotlib>=2.2->seaborn) (0.11.0)\n",
      "Requirement already satisfied: pytz>=2020.1 in d:\\python\\lib\\site-packages (from pandas>=0.23->seaborn) (2021.3)\n",
      "Requirement already satisfied: six>=1.5 in d:\\python\\lib\\site-packages (from python-dateutil>=2.7->matplotlib>=2.2->seaborn) (1.16.0)\n"
     ]
    },
    {
     "name": "stderr",
     "output_type": "stream",
     "text": [
      "WARNING: You are using pip version 21.2.4; however, version 22.0.3 is available.\n",
      "You should consider upgrading via the 'D:\\python\\python.exe -m pip install --upgrade pip' command.\n"
     ]
    }
   ],
   "source": [
    "!pip install seaborn"
   ]
  },
  {
   "cell_type": "code",
   "execution_count": 9,
   "id": "a6e4ccfe",
   "metadata": {},
   "outputs": [],
   "source": [
    "import seaborn as sns"
   ]
  },
  {
   "cell_type": "code",
   "execution_count": 13,
   "id": "7aede862",
   "metadata": {},
   "outputs": [
    {
     "name": "stderr",
     "output_type": "stream",
     "text": [
      "D:\\python\\lib\\site-packages\\seaborn\\_decorators.py:36: FutureWarning: Pass the following variables as keyword args: x, y. From version 0.12, the only valid positional argument will be `data`, and passing other arguments without an explicit keyword will result in an error or misinterpretation.\n",
      "  warnings.warn(\n"
     ]
    },
    {
     "data": {
      "text/plain": [
       "<AxesSubplot:xlabel='winner_rank', ylabel='winner_hand'>"
      ]
     },
     "execution_count": 13,
     "metadata": {},
     "output_type": "execute_result"
    },
    {
     "data": {
      "image/png": "[encoded data removed]",
      "text/plain": [
       "<Figure size 432x288 with 1 Axes>"
      ]
     },
     "metadata": {
      "needs_background": "light"
     },
     "output_type": "display_data"
    }
   ],
   "source": [
    "sns.barplot(tenisas('winner_rank', tenisas['winner_hand')"
   ]
  },
  {
   "cell_type": "code",
   "execution_count": 15,
   "id": "1912b7e5",
   "metadata": {},
   "outputs": [
    {
     "name": "stderr",
     "output_type": "stream",
     "text": [
      "D:\\python\\lib\\site-packages\\seaborn\\_decorators.py:36: FutureWarning: Pass the following variables as keyword args: x, y. From version 0.12, the only valid positional argument will be `data`, and passing other arguments without an explicit keyword will result in an error or misinterpretation.\n",
      "  warnings.warn(\n"
     ]
    },
    {
     "data": {
      "text/plain": [
       "<AxesSubplot:xlabel='surface', ylabel='winner_seed'>"
      ]
     },
     "execution_count": 15,
     "metadata": {},
     "output_type": "execute_result"
    },
    {
     "data": {
      "image/png": "[encoded data removed]",
      "text/plain": [
       "<Figure size 432x288 with 1 Axes>"
      ]
     },
     "metadata": {
      "needs_background": "light"
     },
     "output_type": "display_data"
    }
   ],
   "source": [
    "sns.barplot(tenisas['surface'], tenisas['winner_seed'])"
   ]
  },
  {
   "cell_type": "code",
   "execution_count": 19,
   "id": "bcb2adf7",
   "metadata": {},
   "outputs": [
    {
     "data": {
      "text/plain": [
       "<AxesSubplot:xlabel='winner_seed', ylabel='Density'>"
      ]
     },
     "execution_count": 19,
     "metadata": {},
     "output_type": "execute_result"
    },
    {
     "data": {
      "image/png": "[encoded data removed]",
      "text/plain": [
       "<Figure size 432x288 with 1 Axes>"
      ]
     },
     "metadata": {
      "needs_background": "light"
     },
     "output_type": "display_data"
    }
   ],
   "source": [
    "sns.distplot(tenisas['winner_seed'])"
   ]
  },
  {
   "cell_type": "code",
   "execution_count": 5,
   "id": "643ada5c",
   "metadata": {},
   "outputs": [
    {
     "ename": "NameError",
     "evalue": "name 'tenisas' is not defined",
     "output_type": "error",
     "traceback": [
      "\u001b[1;31m---------------------------------------------------------------------------\u001b[0m",
      "\u001b[1;31mNameError\u001b[0m                                 Traceback (most recent call last)",
      "Input \u001b[1;32mIn [5]\u001b[0m, in \u001b[0;36m<cell line: 1>\u001b[1;34m()\u001b[0m\n\u001b[1;32m----> 1\u001b[0m sns\u001b[38;5;241m.\u001b[39mbarplot(\u001b[43mtenisas\u001b[49m[\u001b[38;5;124m'\u001b[39m\u001b[38;5;124ml_bpFaced\u001b[39m\u001b[38;5;124m'\u001b[39m], tenisas[\u001b[38;5;124m'\u001b[39m\u001b[38;5;124ml_svpt\u001b[39m\u001b[38;5;124m'\u001b[39m])\n",
      "\u001b[1;31mNameError\u001b[0m: name 'tenisas' is not defined"
     ]
    }
   ],
   "source": [
    "sns.barplot(tenisas['l_bpFaced'], tenisas['l_svpt'])"
   ]
  },
  {
   "cell_type": "code",
   "execution_count": 7,
   "id": "58410894",
   "metadata": {},
   "outputs": [
    {
     "ename": "NameError",
     "evalue": "name 'tenisas' is not defined",
     "output_type": "error",
     "traceback": [
      "\u001b[1;31m---------------------------------------------------------------------------\u001b[0m",
      "\u001b[1;31mNameError\u001b[0m                                 Traceback (most recent call last)",
      "Input \u001b[1;32mIn [7]\u001b[0m, in \u001b[0;36m<cell line: 1>\u001b[1;34m()\u001b[0m\n\u001b[1;32m----> 1\u001b[0m \u001b[43mtenisas\u001b[49m\u001b[38;5;241m.\u001b[39minfo()\n",
      "\u001b[1;31mNameError\u001b[0m: name 'tenisas' is not defined"
     ]
    }
   ],
   "source": [
    "tenisas.info()"
   ]
  },
  {
   "cell_type": "code",
   "execution_count": 3,
   "id": "63f50fee",
   "metadata": {},
   "outputs": [],
   "source": [
    "import seaborn as sns"
   ]
  },
  {
   "cell_type": "code",
   "execution_count": null,
   "id": "279bd41b",
   "metadata": {},
   "outputs": [],
   "source": []
  }
 ],
 "metadata": {
  "kernelspec": {
   "display_name": "Python 3 (ipykernel)",
   "language": "python",
   "name": "python3"
  },
  "language_info": {
   "codemirror_mode": {
    "name": "ipython",
    "version": 3
   },
   "file_extension": ".py",
   "mimetype": "text/x-python",
   "name": "python",
   "nbconvert_exporter": "python",
   "pygments_lexer": "ipython3",
   "version": "3.10.1"
  },
  "toc": {
   "base_numbering": 1,
   "nav_menu": {},
   "number_sections": true,
   "sideBar": true,
   "skip_h1_title": false,
   "title_cell": "Table of Contents",
   "title_sidebar": "Contents",
   "toc_cell": false,
   "toc_position": {},
   "toc_section_display": true,
   "toc_window_display": false
  }
 },
 "nbformat": 4,
 "nbformat_minor": 5
}
